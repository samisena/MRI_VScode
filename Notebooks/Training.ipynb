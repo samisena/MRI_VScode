{
 "cells": [
  {
   "cell_type": "code",
   "execution_count": 1,
   "metadata": {},
   "outputs": [],
   "source": [
    "from mri.Model import *\n"
   ]
  },
  {
   "cell_type": "code",
   "execution_count": 2,
   "metadata": {},
   "outputs": [
    {
     "name": "stdout",
     "output_type": "stream",
     "text": [
      "GPU\n"
     ]
    }
   ],
   "source": [
    "if torch.cuda.is_available():\n",
    "    print(\"GPU\")\n",
    "else:\n",
    "    print(\"CPU\")"
   ]
  },
  {
   "cell_type": "code",
   "execution_count": 3,
   "metadata": {},
   "outputs": [
    {
     "name": "stderr",
     "output_type": "stream",
     "text": [
      "Training:  60%|██████    | 12/20 [10:12<06:48, 51.01s/it, train_loss=0.0559, train_accuracy=98.13, val_loss=0.0854, val_accuracy=97.08, learning_rate=0.000300]"
     ]
    },
    {
     "name": "stdout",
     "output_type": "stream",
     "text": [
      "Early stopping triggered after 13 epochs\n",
      "Training completed! Best validation accuracy: 97.78%\n",
      "Model weights saved at: /teamspace/studios/this_studio/MRI_VScode/src/Trained_models/Resnet50.pth\n"
     ]
    },
    {
     "name": "stderr",
     "output_type": "stream",
     "text": [
      "\n"
     ]
    }
   ],
   "source": [
    "model = Resnet50(num_classes=4)\n",
    "save_path = get_save_path(model)\n",
    "best_model_state, best_accuracy = train_model(model=model, epochs =100, patience=10,\n",
    "                                                train_loader=train_loader, \n",
    "                                                val_loader=val_loader, \n",
    "                                                save_path=save_path)\n",
    "print(f\"Training completed! Best validation accuracy: {best_accuracy:.2f}%\")\n",
    "print(f\"Model weights saved at: {save_path}\")"
   ]
  },
  {
   "cell_type": "code",
   "execution_count": null,
   "metadata": {},
   "outputs": [],
   "source": [
    "get_save_path(model)"
   ]
  }
 ],
 "metadata": {
  "kernelspec": {
   "display_name": "myvenv",
   "language": "python",
   "name": "python3"
  },
  "language_info": {
   "codemirror_mode": {
    "name": "ipython",
    "version": 3
   },
   "file_extension": ".py",
   "mimetype": "text/x-python",
   "name": "python",
   "nbconvert_exporter": "python",
   "pygments_lexer": "ipython3",
   "version": "3.10.16"
  }
 },
 "nbformat": 4,
 "nbformat_minor": 2
}
