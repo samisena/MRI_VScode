{
  "cells": [
    {
      "cell_type": "code",
      "execution_count": 5,
      "metadata": {},
      "outputs": [],
      "source": [
        "from mri.Model import *\n"
      ]
    },
    {
      "cell_type": "code",
      "execution_count": 2,
      "metadata": {},
      "outputs": [
        {
          "name": "stdout",
          "output_type": "stream",
          "text": [
            "CPU\n"
          ]
        }
      ],
      "source": [
        "if torch.cuda.is_available():\n",
        "    print(\"GPU\")\n",
        "else:\n",
        "    print(\"CPU\")"
      ]
    },
    {
      "cell_type": "code",
      "execution_count": 3,
      "metadata": {},
      "outputs": [],
      "source": [
        "epochs = 100\n",
        "patience = 10\n",
        "checkpoint_freq = 5\n",
        "learning_rate = 0.003"
      ]
    },
    {
      "cell_type": "code",
      "execution_count": 4,
      "metadata": {},
      "outputs": [
        {
          "name": "stdout",
          "output_type": "stream",
          "text": [
            "Loading checkpoint from /teamspace/studios/this_studio/MRI_VScode/Trained_models/Resnet50_checkpoint.pt\n",
            "Resuming training from epoch 35 with best accuracy 98.83313885647608\n"
          ]
        },
        {
          "name": "stderr",
          "output_type": "stream",
          "text": [
            "Training:   0%|          | 0/65 [00:47<?, ?it/s, train_loss=0.0064, train_accuracy=99.81, val_loss=0.0427, val_accuracy=98.60, learning_rate=0.000003]"
          ]
        },
        {
          "name": "stdout",
          "output_type": "stream",
          "text": [
            "Early stopping triggered after 36 epochs\n",
            "Training completed! Best validation accuracy: 98.83%\n",
            "Model weights saved at: /teamspace/studios/this_studio/MRI_VScode/Trained_models/Resnet50.pth\n"
          ]
        },
        {
          "name": "stderr",
          "output_type": "stream",
          "text": [
            "\n"
          ]
        }
      ],
      "source": [
        "model = Resnet50(num_classes=4)\n",
        "save_path = get_save_path(model)\n",
        "best_model_state, best_accuracy = train_model(model=model, epochs =100, patience=10,\n",
        "                                                learning_rate=learning_rate,\n",
        "                                                train_loader=train_loader,\n",
        "                                                val_loader=val_loader, \n",
        "                                                save_path=save_path,\n",
        "                                                resume_from_checkpoint = True)\n",
        "print(f\"Training completed! Best validation accuracy: {best_accuracy:.2f}%\")\n",
        "print(f\"Model weights saved at: {save_path}\")"
      ]
    },
    {
      "cell_type": "code",
      "execution_count": 5,
      "metadata": {},
      "outputs": [
        {
          "name": "stderr",
          "output_type": "stream",
          "text": [
            "2025/03/03 22:36:51 WARNING mlflow.utils.requirements_utils: Found torch version (2.2.1+cu121) contains a local version label (+cu121). MLflow logged a pip requirement for this package as 'torch==2.2.1' without the local version label to make it installable from PyPI. To specify pip requirements containing local version labels, please use `conda_env` or `pip_requirements`.\n",
            "2025/03/03 22:36:59 WARNING mlflow.utils.requirements_utils: The following packages were not found in the public PyPI package index as of 2025-01-14; if these packages are not present in the public PyPI index, you must install them manually before loading your model: {'mri-vscode'}\n",
            "2025/03/03 22:36:59 WARNING mlflow.utils.requirements_utils: Found torchvision version (0.17.1+cu121) contains a local version label (+cu121). MLflow logged a pip requirement for this package as 'torchvision==0.17.1' without the local version label to make it installable from PyPI. To specify pip requirements containing local version labels, please use `conda_env` or `pip_requirements`.\n",
            "\u001b[31m2025/03/03 22:36:59 WARNING mlflow.models.model: Model logged without a signature and input example. Please set `input_example` parameter when logging the model to auto infer the model signature.\u001b[0m\n"
          ]
        }
      ],
      "source": [
        "save_model_version(model=model, epochs=epochs, patience=patience, checkpoint_freq=checkpoint_freq,\n",
        "                 learning_rate=learning_rate, best_accuracy=best_accuracy)"
      ]
    }
  ],
  "metadata": {
    "kernelspec": {
      "display_name": "myvenv",
      "language": "python",
      "name": "python3"
    },
    "language_info": {
      "codemirror_mode": {
        "name": "ipython",
        "version": 3
      },
      "file_extension": ".py",
      "mimetype": "text/x-python",
      "name": "python",
      "nbconvert_exporter": "python",
      "pygments_lexer": "ipython3",
      "version": "3.10.16"
    }
  },
  "nbformat": 4,
  "nbformat_minor": 2
}
