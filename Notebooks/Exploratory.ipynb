{
 "cells": [
  {
   "cell_type": "code",
   "execution_count": 1,
   "metadata": {},
   "outputs": [
    {
     "name": "stdout",
     "output_type": "stream",
     "text": [
      "Python executable: c:\\ProgramData\\anaconda3\\envs\\myvenv\\python.exe\n",
      "Current directory: c:\\Users\\samis\\OneDrive\\Bureau\\MRI_VScode\\Notebooks\n",
      "Parent Direcoty: c:\\Users\\samis\\OneDrive\\Bureau\\MRI_VScode\n"
     ]
    }
   ],
   "source": [
    "import sys          \n",
    "import os           \n",
    "\n",
    "print(\"Python executable:\", sys.executable)   #? Checks the current working environment\n",
    "\n",
    "print(f\"Current directory: {os.getcwd()}\")\n",
    "\n",
    "parent_directory = os.path.dirname(os.getcwd())     #? os.getcwd() gets your current working directory (The Notebooks folder)\n",
    "\n",
    "print(f\"Parent Direcoty: {parent_directory}\")       #? os.path.dirname() goes up one path level (The entire workspace directory)\n",
    "\n",
    "sys.path.append(parent_directory)   #? sys.path.append() tells Python \"Hey, also look in this location for things to import\"\n",
    "\n",
    "from mri.Preprocessing import *\n",
    "                                    "
   ]
  },
  {
   "cell_type": "markdown",
   "metadata": {},
   "source": [
    "Data Exploration"
   ]
  },
  {
   "cell_type": "code",
   "execution_count": 2,
   "metadata": {},
   "outputs": [
    {
     "name": "stdout",
     "output_type": "stream",
     "text": [
      "RGB\n"
     ]
    }
   ],
   "source": [
    "img_path = Path.cwd().parent / \"Data\" / 'Raw' / \"Training\" / \"glioma\" / \"Tr-gl_0010.jpg\"\n",
    "image = Image.open(img_path)\n",
    "print(image.mode)\n",
    "image.show()"
   ]
  },
  {
   "cell_type": "code",
   "execution_count": 21,
   "metadata": {},
   "outputs": [
    {
     "name": "stdout",
     "output_type": "stream",
     "text": [
      "There are 5712 training examples, and 1311 testing examples.\n",
      "For a total of 7023 examples.\n",
      "The training set consitutes 81.33% of the dataset.\n",
      "While the testing set consitutes the remaining 18.67%\n"
     ]
    }
   ],
   "source": [
    "print(f\"\"\"There are {len(train_dataset)} training examples, and {len(test_dataset)} testing examples.\n",
    "For a total of {len(train_dataset) + len(test_dataset)} examples.\n",
    "The training set consitutes {round(((len(train_dataset)/(len(train_dataset) + len(test_dataset)))*100),2)}% of the dataset.\n",
    "While the testing set consitutes the remaining {round(((len(test_dataset)/(len(train_dataset) + len(test_dataset)))*100),2)}%\"\"\")"
   ]
  }
 ],
 "metadata": {
  "kernelspec": {
   "display_name": "myvenv",
   "language": "python",
   "name": "python3"
  },
  "language_info": {
   "codemirror_mode": {
    "name": "ipython",
    "version": 3
   },
   "file_extension": ".py",
   "mimetype": "text/x-python",
   "name": "python",
   "nbconvert_exporter": "python",
   "pygments_lexer": "ipython3",
   "version": "3.10.16"
  }
 },
 "nbformat": 4,
 "nbformat_minor": 2
}
