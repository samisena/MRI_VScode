{
 "cells": [
  {
   "cell_type": "code",
   "execution_count": 1,
   "metadata": {},
   "outputs": [
    {
     "name": "stdout",
     "output_type": "stream",
     "text": [
      "Python executable: c:\\ProgramData\\anaconda3\\envs\\myvenv\\python.exe\n",
      "Python path: ['c:\\\\ProgramData\\\\anaconda3\\\\envs\\\\myvenv\\\\python310.zip', 'c:\\\\ProgramData\\\\anaconda3\\\\envs\\\\myvenv\\\\DLLs', 'c:\\\\ProgramData\\\\anaconda3\\\\envs\\\\myvenv\\\\lib', 'c:\\\\ProgramData\\\\anaconda3\\\\envs\\\\myvenv', '', 'c:\\\\ProgramData\\\\anaconda3\\\\envs\\\\myvenv\\\\lib\\\\site-packages', 'c:\\\\ProgramData\\\\anaconda3\\\\envs\\\\myvenv\\\\lib\\\\site-packages\\\\win32', 'c:\\\\ProgramData\\\\anaconda3\\\\envs\\\\myvenv\\\\lib\\\\site-packages\\\\win32\\\\lib', 'c:\\\\ProgramData\\\\anaconda3\\\\envs\\\\myvenv\\\\lib\\\\site-packages\\\\Pythonwin']\n"
     ]
    }
   ],
   "source": [
    "import sys          #* The sys module tells us how python runs on our computer\n",
    "import os           #* The OS module is how Python interacts with files on our computers\n",
    "\n",
    "print(\"Python executable:\", sys.executable)\n",
    "print(\"Python path:\", sys.path)\n",
    "\n",
    "\n",
    "parent_directory = os.path.dirname(os.getcwd())     #? os.getcwd() gets your current working directory (The Notebooks folder)\n",
    "                                                    #? os.path.dirname() goes up one path level (The entire workspace directory)\n",
    "sys.path.append(parent_directory)                #? sys.path.append() tells Python \"Hey, also look in this location for things to import\"\n",
    "\n",
    "from Scripts.Preprocessing import *\n",
    "                                    "
   ]
  },
  {
   "cell_type": "code",
   "execution_count": 2,
   "metadata": {},
   "outputs": [
    {
     "data": {
      "text/plain": [
       "'Missing folders: testing, training'"
      ]
     },
     "execution_count": 2,
     "metadata": {},
     "output_type": "execute_result"
    }
   ],
   "source": [
    "verify_folders(\"Data/Raw/Testing\",\"Data/Raw/Training\" )"
   ]
  },
  {
   "cell_type": "code",
   "execution_count": 3,
   "metadata": {},
   "outputs": [],
   "source": [
    "train_dataset = MRIDataset(\"Data/Raw/Training\", 'train', train_transforms)\n",
    "test_dataset = MRIDataset(\"Data/Raw/Testing\", 'test', test_transforms)"
   ]
  },
  {
   "cell_type": "code",
   "execution_count": null,
   "metadata": {},
   "outputs": [],
   "source": []
  }
 ],
 "metadata": {
  "kernelspec": {
   "display_name": "myvenv",
   "language": "python",
   "name": "python3"
  },
  "language_info": {
   "codemirror_mode": {
    "name": "ipython",
    "version": 3
   },
   "file_extension": ".py",
   "mimetype": "text/x-python",
   "name": "python",
   "nbconvert_exporter": "python",
   "pygments_lexer": "ipython3",
   "version": "3.10.16"
  }
 },
 "nbformat": 4,
 "nbformat_minor": 2
}
