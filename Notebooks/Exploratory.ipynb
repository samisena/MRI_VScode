{
 "cells": [
  {
   "cell_type": "code",
   "execution_count": 1,
   "metadata": {},
   "outputs": [
    {
     "name": "stdout",
     "output_type": "stream",
     "text": [
      "Python executable: c:\\ProgramData\\anaconda3\\envs\\myvenv\\python.exe\n",
      "Current directory: c:\\Users\\samis\\OneDrive\\Bureau\\MRI_VScode\\Notebooks\n",
      "Parent Direcoty: c:\\Users\\samis\\OneDrive\\Bureau\\MRI_VScode\n"
     ]
    }
   ],
   "source": [
    "import sys          \n",
    "import os           \n",
    "\n",
    "print(\"Python executable:\", sys.executable)   #? Checks the current working environment\n",
    "\n",
    "print(f\"Current directory: {os.getcwd()}\")\n",
    "\n",
    "parent_directory = os.path.dirname(os.getcwd())     #? os.getcwd() gets your current working directory (The Notebooks folder)\n",
    "\n",
    "print(f\"Parent Direcoty: {parent_directory}\")       #? os.path.dirname() goes up one path level (The entire workspace directory)\n",
    "\n",
    "sys.path.append(parent_directory)   #? sys.path.append() tells Python \"Hey, also look in this location for things to import\"\n",
    "\n",
    "from Scripts.Preprocessing import *\n",
    "                                    "
   ]
  },
  {
   "cell_type": "markdown",
   "metadata": {},
   "source": [
    "Data Exploration"
   ]
  },
  {
   "cell_type": "code",
   "execution_count": 2,
   "metadata": {},
   "outputs": [
    {
     "name": "stdout",
     "output_type": "stream",
     "text": [
      "RGB\n"
     ]
    }
   ],
   "source": [
    "img_path = Path.cwd().parent / \"Data\" / 'Raw' / \"Training\" / \"glioma\" / \"Tr-gl_0010.jpg\"\n",
    "image = Image.open(img_path)\n",
    "print(image.mode)\n",
    "image.show()"
   ]
  },
  {
   "cell_type": "markdown",
   "metadata": {},
   "source": [
    "Data Preparation"
   ]
  },
  {
   "cell_type": "code",
   "execution_count": 2,
   "metadata": {},
   "outputs": [
    {
     "name": "stdout",
     "output_type": "stream",
     "text": [
      " The testing set path is: c:\\Users\\samis\\OneDrive\\Bureau\\MRI_VScode\\Data\\Raw\\Testing\n",
      " The training set path is: c:\\Users\\samis\\OneDrive\\Bureau\\MRI_VScode\\Data\\Raw\\Training\n"
     ]
    }
   ],
   "source": [
    "testing_set_dir = Path.cwd().parent / \"Data\" / 'Raw' / \"Testing\"\n",
    "print(f\" The testing set path is: {testing_set_dir}\")\n",
    "\n",
    "training_set_dir = Path.cwd().parent / \"Data\" / 'Raw' / \"Training\"\n",
    "print(f\" The training set path is: {training_set_dir}\")"
   ]
  },
  {
   "cell_type": "code",
   "execution_count": 3,
   "metadata": {},
   "outputs": [],
   "source": [
    "train_dataset = MRIDataset(training_set_dir,  train_transforms)\n",
    "test_dataset = MRIDataset(testing_set_dir,  test_transforms )"
   ]
  },
  {
   "cell_type": "code",
   "execution_count": 6,
   "metadata": {},
   "outputs": [
    {
     "data": {
      "text/plain": [
       "1311"
      ]
     },
     "execution_count": 6,
     "metadata": {},
     "output_type": "execute_result"
    }
   ],
   "source": [
    "len(test_dataset)"
   ]
  },
  {
   "cell_type": "code",
   "execution_count": 7,
   "metadata": {},
   "outputs": [],
   "source": [
    "train_loader = DataLoader(train_dataset, batch_size=32,\n",
    "                          shuffle=True, num_workers=4)\n",
    "\n",
    "test_loader = DataLoader(test_dataset, batch_size=32,\n",
    "                         shuffle=True, num_workers=4)"
   ]
  }
 ],
 "metadata": {
  "kernelspec": {
   "display_name": "myvenv",
   "language": "python",
   "name": "python3"
  },
  "language_info": {
   "codemirror_mode": {
    "name": "ipython",
    "version": 3
   },
   "file_extension": ".py",
   "mimetype": "text/x-python",
   "name": "python",
   "nbconvert_exporter": "python",
   "pygments_lexer": "ipython3",
   "version": "3.10.16"
  }
 },
 "nbformat": 4,
 "nbformat_minor": 2
}
